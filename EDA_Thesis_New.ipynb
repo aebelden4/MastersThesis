{
  "cells": [
    {
      "cell_type": "markdown",
      "metadata": {
        "id": "qZMBneLtMfFx"
      },
      "source": [
        "# Exploratory Data Analysis\n",
        "## Author: Amanda Belden\n",
        "### Master's Thesis\n"
      ]
    },
    {
      "cell_type": "markdown",
      "metadata": {
        "id": "IA2GnzQFO8ze"
      },
      "source": [
        "### Install Packages and Libraries"
      ]
    },
    {
      "cell_type": "code",
      "execution_count": null,
      "metadata": {
        "id": "1xXlEeqhDzwt"
      },
      "outputs": [],
      "source": [
        "import pandas as pd\n",
        "import numpy as np\n",
        "import matplotlib.pyplot as plt\n"
      ]
    },
    {
      "cell_type": "markdown",
      "metadata": {},
      "source": [
        "## SAR Data"
      ]
    },
    {
      "cell_type": "markdown",
      "metadata": {
        "id": "gkBrOGuIO5QR"
      },
      "source": [
        "### Read in Data"
      ]
    },
    {
      "cell_type": "code",
      "execution_count": null,
      "metadata": {
        "colab": {
          "base_uri": "https://localhost:8080/",
          "height": 412
        },
        "id": "_PreqaNmODSd",
        "outputId": "507e558c-dd74-41fa-db92-e3d1e9f3f7bd"
      },
      "outputs": [],
      "source": [
        "df_sar = pd.read_csv('df_sar.csv')\n",
        "df_sar.head()"
      ]
    },
    {
      "cell_type": "markdown",
      "metadata": {
        "id": "-h6i8FMtegI6"
      },
      "source": [
        "## Exploratory Data Analysis"
      ]
    },
    {
      "cell_type": "markdown",
      "metadata": {},
      "source": [
        "### Land Class"
      ]
    },
    {
      "cell_type": "code",
      "execution_count": null,
      "metadata": {},
      "outputs": [],
      "source": [
        "plt.hist(df_sar[\"Land Class\"], color='skyblue', edgecolor='black');\n",
        "\n",
        "plt.xlabel('Land Class');\n",
        "plt.ylabel('Frequency');\n",
        "plt.title('Histogram for Land Class');"
      ]
    },
    {
      "cell_type": "markdown",
      "metadata": {},
      "source": [
        "### Incident Park"
      ]
    },
    {
      "cell_type": "code",
      "execution_count": null,
      "metadata": {},
      "outputs": [],
      "source": [
        "plt.hist(df_sar[\"Incident Park\"], color='skyblue', edgecolor='black');\n",
        "\n",
        "plt.xlabel('Incident Park');\n",
        "plt.ylabel('Frequency');\n",
        "plt.title('Histogram for Incident Park');"
      ]
    },
    {
      "cell_type": "markdown",
      "metadata": {},
      "source": [
        "### Missing Situation"
      ]
    },
    {
      "cell_type": "code",
      "execution_count": null,
      "metadata": {},
      "outputs": [],
      "source": [
        "plt.hist(df_sar[\"Missing SITUATION IND\"], color='skyblue', edgecolor='black');\n",
        "\n",
        "plt.xlabel('Missing Situation Indicator');\n",
        "plt.ylabel('Frequency');\n",
        "plt.title('Histogram for Missing Situation');"
      ]
    },
    {
      "cell_type": "markdown",
      "metadata": {},
      "source": [
        "### Dementia"
      ]
    },
    {
      "cell_type": "code",
      "execution_count": null,
      "metadata": {},
      "outputs": [],
      "source": [
        "plt.hist(df_sar[\"Dementia IND\"], color='skyblue', edgecolor='black');\n",
        "\n",
        "plt.xlabel('Dementia Indicator');\n",
        "plt.ylabel('Frequency');\n",
        "plt.title('Histogram for Dementia');"
      ]
    },
    {
      "cell_type": "markdown",
      "metadata": {},
      "source": [
        "### Injured Situation"
      ]
    },
    {
      "cell_type": "code",
      "execution_count": null,
      "metadata": {},
      "outputs": [],
      "source": [
        "plt.hist(df_sar[\"Injured SITUATION IND\"], color='skyblue', edgecolor='black');\n",
        "\n",
        "plt.xlabel('Injured Situation Indicator');\n",
        "plt.ylabel('Frequency');\n",
        "plt.title('Histogram for Injured Situation');"
      ]
    },
    {
      "cell_type": "markdown",
      "metadata": {},
      "source": [
        "### Start TIme Interval"
      ]
    },
    {
      "cell_type": "code",
      "execution_count": null,
      "metadata": {},
      "outputs": [],
      "source": [
        "plt.hist(df_sar[\"start_time_interval\"], color='skyblue', edgecolor='black');\n",
        "\n",
        "plt.xlabel('Incident Start Time');\n",
        "plt.ylabel('Frequency');\n",
        "plt.title('Histogram for Incident Start Time');"
      ]
    },
    {
      "cell_type": "markdown",
      "metadata": {},
      "source": [
        "### Response Type"
      ]
    },
    {
      "cell_type": "code",
      "execution_count": null,
      "metadata": {},
      "outputs": [],
      "source": [
        "plt.hist(df_sar[\"RESPONSE TYPE\"], color='skyblue', edgecolor='black');\n",
        "\n",
        "plt.xlabel('Response Type');\n",
        "plt.ylabel('Frequency');\n",
        "plt.title('Histogram for Response Type');"
      ]
    }
  ],
  "metadata": {
    "colab": {
      "provenance": [],
      "toc_visible": true
    },
    "kernelspec": {
      "display_name": "Python 3",
      "name": "python3"
    },
    "language_info": {
      "codemirror_mode": {
        "name": "ipython",
        "version": 3
      },
      "file_extension": ".py",
      "mimetype": "text/x-python",
      "name": "python",
      "nbconvert_exporter": "python",
      "pygments_lexer": "ipython3",
      "version": "3.11.5"
    }
  },
  "nbformat": 4,
  "nbformat_minor": 0
}
